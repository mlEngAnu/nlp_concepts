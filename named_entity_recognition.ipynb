{
  "nbformat": 4,
  "nbformat_minor": 0,
  "metadata": {
    "colab": {
      "provenance": [],
      "authorship_tag": "ABX9TyPKOy/aalKjzzlE2MmUTt/K",
      "include_colab_link": true
    },
    "kernelspec": {
      "name": "python3",
      "display_name": "Python 3"
    },
    "language_info": {
      "name": "python"
    }
  },
  "cells": [
    {
      "cell_type": "markdown",
      "metadata": {
        "id": "view-in-github",
        "colab_type": "text"
      },
      "source": [
        "<a href=\"https://colab.research.google.com/github/mlEngAnu/nlp_concepts/blob/main/named_entity_recognition.ipynb\" target=\"_parent\"><img src=\"https://colab.research.google.com/assets/colab-badge.svg\" alt=\"Open In Colab\"/></a>"
      ]
    },
    {
      "cell_type": "code",
      "execution_count": 1,
      "metadata": {
        "colab": {
          "base_uri": "https://localhost:8080/"
        },
        "id": "TLDCyPp2PTu6",
        "outputId": "3280efb0-11cb-4ea2-f5ff-ec4ffcdf9f3c"
      },
      "outputs": [
        {
          "output_type": "stream",
          "name": "stderr",
          "text": [
            "/usr/local/lib/python3.8/dist-packages/torch/cuda/__init__.py:497: UserWarning: Can't initialize NVML\n",
            "  warnings.warn(\"Can't initialize NVML\")\n"
          ]
        },
        {
          "output_type": "stream",
          "name": "stdout",
          "text": [
            "[('Biden', 'PERSON'), ('Ukrainian', 'NORP'), ('White House', 'ORG'), ('this summer', 'DATE')]\n"
          ]
        }
      ],
      "source": [
        "# import Spacy\n",
        "import spacy\n",
        "# create a nlp variable which stores en_core_web_sm\n",
        "nlp = spacy.load(\"en_core_web_sm\")\n",
        "# apply nlp pipeline to sentence\n",
        "doc = nlp(\"Biden invites Ukrainian president to White House this summer\")\n",
        "print([(X.text, X.label_) for X in doc.ents])"
      ]
    }
  ]
}